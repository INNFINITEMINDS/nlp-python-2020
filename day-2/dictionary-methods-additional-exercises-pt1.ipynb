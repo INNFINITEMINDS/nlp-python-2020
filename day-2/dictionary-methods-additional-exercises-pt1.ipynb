{
 "cells": [
  {
   "cell_type": "markdown",
   "metadata": {},
   "source": [
    "## Weighted Dictionary: Additional Exercises\n",
    "* For an extra challenge, do these exercises **without** copying and pasting code from workshop notebook."
   ]
  },
  {
   "cell_type": "code",
   "execution_count": null,
   "metadata": {},
   "outputs": [],
   "source": [
    "import pandas\n",
    "from sklearn.feature_extraction.text import CountVectorizer\n",
    "\n",
    "con_score = pandas.read_csv('../day-2/data/Concreteness_ratings_Brysbaert_et_al.csv')\n",
    "print(con_score)"
   ]
  },
  {
   "cell_type": "markdown",
   "metadata": {},
   "source": [
    "## Question 1\n",
    "* open the **Machiavelli_ThePrince.txt** and **Marx_CommunistManifesto.txt**.\n",
    "* make a data frame that contains both of them."
   ]
  },
  {
   "cell_type": "markdown",
   "metadata": {},
   "source": [
    "## Question 2\n",
    "* take a subset of the DTM, keeping only the intersection between the words in our corpus and the word in the dictionary.\n",
    "* tanspose and rename the column\n",
    "* finally merge our data frame with con_score data frame\n",
    "\n"
   ]
  },
  {
   "cell_type": "markdown",
   "metadata": {},
   "source": [
    "## Question 3\n",
    "* Calculate and print the **average concreteness score** for each text.\n",
    "* What is the magnitude of the difference?"
   ]
  },
  {
   "cell_type": "code",
   "execution_count": null,
   "metadata": {},
   "outputs": [],
   "source": []
  }
 ],
 "metadata": {
  "kernelspec": {
   "display_name": "Python 3",
   "language": "python",
   "name": "python3"
  },
  "language_info": {
   "codemirror_mode": {
    "name": "ipython",
    "version": 3
   },
   "file_extension": ".py",
   "mimetype": "text/x-python",
   "name": "python",
   "nbconvert_exporter": "python",
   "pygments_lexer": "ipython3",
   "version": "3.8.5"
  }
 },
 "nbformat": 4,
 "nbformat_minor": 2
}
